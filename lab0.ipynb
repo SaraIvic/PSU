{
 "cells": [
  {
   "cell_type": "markdown",
   "metadata": {},
   "source": [
    "## Kratki pregled za Jupyter Notebook"
   ]
  },
  {
   "cell_type": "markdown",
   "metadata": {},
   "source": [
    "Jupyter Notebook je okruženje za kodiranje temeljeno na pregledniku, koje se intenzivno koristi za izradu prototipa i interaktivni razvoj u aplikacijama za podatkovnu znanost. Jupyter Notebook je evolucija starijeg projekta koji se zove IPython Noteboook (ovo je podrijetlo ekstenzije datoteke prijenosnika “.ipynb”), i dok (kao što ime sugerira) Jupyter Notebook podržava jezike koji nisu Python, trenutno Python je daleko najčešći jezik za ove bilježnice. Opće informacije o Jupyter Notebooku i povezanim projektima mogu se pronaći na stranici [Jupyter project page](http://jupyter.org/)."
   ]
  },
  {
   "cell_type": "markdown",
   "metadata": {},
   "source": [
    "Središnja jedinica unutar Jupyter Notebooka su \"ćelije\". Ove ćelije mogu sadržavati kod ili Markdown (jednostavan jezik za oblikovanje, koji također može uključivati stvari poput LaTeX jednadžbe). Padajući izbornik na vrhu zaslona označava vrstu trenutne ćelije.\n",
    "\n",
    "Ćelije s kodovima mogu se izvršiti pritiskom na gumb ▶❚ na vrhu bilježnice ili češće putem naredbi Shift-Enter (izvrši i prijeđi na sljedeću ćeliju) ili Control-Enter (izvrši i ostani na toj ćeliji). Sav Python kod se izvodi u jednom radnom Python okruženju, koje se zove \"Kernel\" u Jupyter bilježnici. Varijable se dijele u svim ćelijama, a kod se izvršava redoslijedom kojim se ćelije izvode (ne nužno sekvencijalno u bilježnici), što vašu bilježnicu može dovesti u prilično zbunjujuća stanja ako ćelije ne izvršavate uvijek redom.\n",
    "\n",
    "Pogledajmo nekoliko primjera."
   ]
  },
  {
   "cell_type": "code",
   "execution_count": 1,
   "metadata": {},
   "outputs": [
    {
     "data": {
      "text/plain": [
       "3"
      ]
     },
     "execution_count": 1,
     "metadata": {},
     "output_type": "execute_result"
    }
   ],
   "source": [
    "1+2"
   ]
  },
  {
   "cell_type": "code",
   "execution_count": 2,
   "metadata": {},
   "outputs": [],
   "source": [
    "a = 1.0\n",
    "b = 2.0"
   ]
  },
  {
   "cell_type": "code",
   "execution_count": 3,
   "metadata": {},
   "outputs": [
    {
     "name": "stdout",
     "output_type": "stream",
     "text": [
      "1.0\n"
     ]
    },
    {
     "data": {
      "text/plain": [
       "2.0"
      ]
     },
     "execution_count": 3,
     "metadata": {},
     "output_type": "execute_result"
    }
   ],
   "source": [
    "print(a)\n",
    "b"
   ]
  },
  {
   "cell_type": "code",
   "execution_count": 4,
   "metadata": {},
   "outputs": [
    {
     "name": "stdout",
     "output_type": "stream",
     "text": [
      "0\n",
      "1\n",
      "2\n",
      "3\n",
      "4\n",
      "5\n",
      "6\n",
      "7\n",
      "8\n",
      "9\n"
     ]
    }
   ],
   "source": [
    "for i in range(10):\n",
    "    print(i)"
   ]
  },
  {
   "cell_type": "markdown",
   "metadata": {},
   "source": [
    "Sve naredbe za `print` ispisat će se u odjeljak izlaza iz ćelije, a izlaz će također sadržavati string reprezentaciju objekta koju vraća zadnji red u ćeliji. Dakle, u gornjoj postavci gdje se varijabla `b` pojavljuje u zadnjem retku ćelije, njen sadržaj se ispisuje na kraju izlaza ćelije, nakon svih prethodnih naredbi za ispis koje su se dogodile prije.\n",
    "\n",
    "Bilo koji Python kod bit će valjan u tim ćelijama, tako da možemo uvesti vanjske biblioteke, definirati klase i funkcije itd."
   ]
  },
  {
   "cell_type": "code",
   "execution_count": 5,
   "metadata": {},
   "outputs": [],
   "source": [
    "import requests"
   ]
  },
  {
   "cell_type": "code",
   "execution_count": 6,
   "metadata": {},
   "outputs": [],
   "source": [
    "def square(x):\n",
    "    \"\"\"Square the input x\"\"\"\n",
    "    return x*x"
   ]
  },
  {
   "cell_type": "code",
   "execution_count": 7,
   "metadata": {},
   "outputs": [
    {
     "data": {
      "text/plain": [
       "16"
      ]
     },
     "execution_count": 7,
     "metadata": {},
     "output_type": "execute_result"
    }
   ],
   "source": [
    "square(4)"
   ]
  },
  {
   "cell_type": "markdown",
   "metadata": {},
   "source": [
    "### Cell magics\n",
    "\n",
    "Osim pokretanja Python koda, Jupyter Notebook ima neke ugrađene rutine za izvođenje operacija izvan Pythona, mjerenje vremena ili analizu izvođenja koda, itd. Ovim \"cell magics\" prethodi `%` (na početku retka ... ovo je tehnički se naziva \"linijska magija\") za single line cell magic i `%%` na početku ćelije za cell magics cjalokupne ćelije. Nećemo pokriti mnoge od njih, ali neke su vrlo korisne pa bi se bilo ok upoznati s osnovama. Puno iscrpniji popis se nalazi se ovdje: [Built-in cell magics](http://ipython.readthedocs.io/en/stable/interactive/magics.html).\n",
    "\n",
    "- Vremenske operacije s `%timeit` (za jednu liniju), `%%timeit` (za cijelu ćeliju). Ova naredba će pokrenuti liniju ili ćeliju više puta i dati prosječno vrijeme. Prilagodljiva je, tako da se operacije koje traju manje vremena izvode češće, kako bi se osigurala bolja procjena vremena izvođenja (dakle, vrijeme potrebno za izvođenje ove naredbe nije indikativno za stvarno vrijeme koje je potrebno za izvođenje kod. Ako želite samo mjeriti vrijeme jednog prolaza, koristeći `%time` ili `%%time`."
   ]
  },
  {
   "cell_type": "code",
   "execution_count": 8,
   "metadata": {},
   "outputs": [
    {
     "name": "stdout",
     "output_type": "stream",
     "text": [
      "CPU times: total: 0 ns\n",
      "Wall time: 995 µs\n"
     ]
    },
    {
     "data": {
      "text/plain": [
       "333283335000"
      ]
     },
     "execution_count": 8,
     "metadata": {},
     "output_type": "execute_result"
    }
   ],
   "source": [
    "%time sum(x**2 for x in range(10000))"
   ]
  },
  {
   "cell_type": "markdown",
   "metadata": {},
   "source": [
    "- Izvršite bash naredbe s `%%bash`. Koristite ovo vrlo umjereno."
   ]
  },
  {
   "cell_type": "code",
   "execution_count": 9,
   "metadata": {},
   "outputs": [
    {
     "name": "stderr",
     "output_type": "stream",
     "text": [
      "<3>WSL (9) ERROR: CreateProcessParseCommon:708: Failed to translate c:\\Users\\PC\\PSU\n",
      "<3>WSL (9) ERROR: CreateProcessParseCommon:754: getpwuid(0) failed 2\n",
      "<3>WSL (9) ERROR: UtilTranslatePathList:2866: Failed to translate c:\\Users\\PC\\PSU\\psu\\Scripts\n",
      "<3>WSL (9) ERROR: UtilTranslatePathList:2866: Failed to translate C:\\Users\\PC\\PSU\\psu\\Scripts\n",
      "<3>WSL (9) ERROR: UtilTranslatePathList:2866: Failed to translate C:\\Windows\\system32\n",
      "<3>WSL (9) ERROR: UtilTranslatePathList:2866: Failed to translate C:\\Windows\n",
      "<3>WSL (9) ERROR: UtilTranslatePathList:2866: Failed to translate C:\\Windows\\System32\\Wbem\n",
      "<3>WSL (9) ERROR: UtilTranslatePathList:2866: Failed to translate C:\\Windows\\System32\\WindowsPowerShell\\v1.0\\\n",
      "<3>WSL (9) ERROR: UtilTranslatePathList:2866: Failed to translate C:\\Windows\\System32\\OpenSSH\\\n",
      "<3>WSL (9) ERROR: UtilTranslatePathList:2866: Failed to translate C:\\Program Files\\MATLAB\\R2021b\\runtime\\win64\n",
      "<3>WSL (9) ERROR: UtilTranslatePathList:2866: Failed to translate C:\\Program Files\\MATLAB\\R2021b\\bin\n",
      "<3>WSL (9) ERROR: UtilTranslatePathList:2866: Failed to translate C:\\Program Files\\Docker\\Docker\\resources\\bin\n",
      "<3>WSL (9) ERROR: UtilTranslatePathList:2866: Failed to translate C:\\Program Files\\Git\\cmd\n",
      "<3>WSL (9) ERROR: UtilTranslatePathList:2866: Failed to translate C:\\Users\\PC\\AppData\\Local\\Microsoft\\WindowsApps\n",
      "<3>WSL (9) ERROR: UtilTranslatePathList:2866: Failed to translate C:\\Users\\PC\\AppData\\Local\\Programs\\Microsoft VS Code\\bin\n",
      "<3>WSL (9) ERROR: CreateProcessEntryCommon:331: getpwuid(0) failed 2\n",
      "<3>WSL (9) ERROR: CreateProcessEntryCommon:502: execvpe /bin/bash failed 2\n",
      "<3>WSL (9) ERROR: CreateProcessEntryCommon:505: Create process not expected to return\n"
     ]
    },
    {
     "ename": "CalledProcessError",
     "evalue": "Command 'b'ls\\n'' returned non-zero exit status 1.",
     "output_type": "error",
     "traceback": [
      "\u001b[1;31m---------------------------------------------------------------------------\u001b[0m",
      "\u001b[1;31mCalledProcessError\u001b[0m                        Traceback (most recent call last)",
      "Cell \u001b[1;32mIn[9], line 1\u001b[0m\n\u001b[1;32m----> 1\u001b[0m \u001b[43mget_ipython\u001b[49m\u001b[43m(\u001b[49m\u001b[43m)\u001b[49m\u001b[38;5;241;43m.\u001b[39;49m\u001b[43mrun_cell_magic\u001b[49m\u001b[43m(\u001b[49m\u001b[38;5;124;43m'\u001b[39;49m\u001b[38;5;124;43mbash\u001b[39;49m\u001b[38;5;124;43m'\u001b[39;49m\u001b[43m,\u001b[49m\u001b[43m \u001b[49m\u001b[38;5;124;43m'\u001b[39;49m\u001b[38;5;124;43m'\u001b[39;49m\u001b[43m,\u001b[49m\u001b[43m \u001b[49m\u001b[38;5;124;43m'\u001b[39;49m\u001b[38;5;124;43mls\u001b[39;49m\u001b[38;5;130;43;01m\\n\u001b[39;49;00m\u001b[38;5;124;43m'\u001b[39;49m\u001b[43m)\u001b[49m\n",
      "File \u001b[1;32mc:\\Users\\PC\\PSU\\psu\\Lib\\site-packages\\IPython\\core\\interactiveshell.py:2541\u001b[0m, in \u001b[0;36mInteractiveShell.run_cell_magic\u001b[1;34m(self, magic_name, line, cell)\u001b[0m\n\u001b[0;32m   2539\u001b[0m \u001b[38;5;28;01mwith\u001b[39;00m \u001b[38;5;28mself\u001b[39m\u001b[38;5;241m.\u001b[39mbuiltin_trap:\n\u001b[0;32m   2540\u001b[0m     args \u001b[38;5;241m=\u001b[39m (magic_arg_s, cell)\n\u001b[1;32m-> 2541\u001b[0m     result \u001b[38;5;241m=\u001b[39m \u001b[43mfn\u001b[49m\u001b[43m(\u001b[49m\u001b[38;5;241;43m*\u001b[39;49m\u001b[43margs\u001b[49m\u001b[43m,\u001b[49m\u001b[43m \u001b[49m\u001b[38;5;241;43m*\u001b[39;49m\u001b[38;5;241;43m*\u001b[39;49m\u001b[43mkwargs\u001b[49m\u001b[43m)\u001b[49m\n\u001b[0;32m   2543\u001b[0m \u001b[38;5;66;03m# The code below prevents the output from being displayed\u001b[39;00m\n\u001b[0;32m   2544\u001b[0m \u001b[38;5;66;03m# when using magics with decorator @output_can_be_silenced\u001b[39;00m\n\u001b[0;32m   2545\u001b[0m \u001b[38;5;66;03m# when the last Python token in the expression is a ';'.\u001b[39;00m\n\u001b[0;32m   2546\u001b[0m \u001b[38;5;28;01mif\u001b[39;00m \u001b[38;5;28mgetattr\u001b[39m(fn, magic\u001b[38;5;241m.\u001b[39mMAGIC_OUTPUT_CAN_BE_SILENCED, \u001b[38;5;28;01mFalse\u001b[39;00m):\n",
      "File \u001b[1;32mc:\\Users\\PC\\PSU\\psu\\Lib\\site-packages\\IPython\\core\\magics\\script.py:155\u001b[0m, in \u001b[0;36mScriptMagics._make_script_magic.<locals>.named_script_magic\u001b[1;34m(line, cell)\u001b[0m\n\u001b[0;32m    153\u001b[0m \u001b[38;5;28;01melse\u001b[39;00m:\n\u001b[0;32m    154\u001b[0m     line \u001b[38;5;241m=\u001b[39m script\n\u001b[1;32m--> 155\u001b[0m \u001b[38;5;28;01mreturn\u001b[39;00m \u001b[38;5;28;43mself\u001b[39;49m\u001b[38;5;241;43m.\u001b[39;49m\u001b[43mshebang\u001b[49m\u001b[43m(\u001b[49m\u001b[43mline\u001b[49m\u001b[43m,\u001b[49m\u001b[43m \u001b[49m\u001b[43mcell\u001b[49m\u001b[43m)\u001b[49m\n",
      "File \u001b[1;32mc:\\Users\\PC\\PSU\\psu\\Lib\\site-packages\\IPython\\core\\magics\\script.py:315\u001b[0m, in \u001b[0;36mScriptMagics.shebang\u001b[1;34m(self, line, cell)\u001b[0m\n\u001b[0;32m    310\u001b[0m \u001b[38;5;28;01mif\u001b[39;00m args\u001b[38;5;241m.\u001b[39mraise_error \u001b[38;5;129;01mand\u001b[39;00m p\u001b[38;5;241m.\u001b[39mreturncode \u001b[38;5;241m!=\u001b[39m \u001b[38;5;241m0\u001b[39m:\n\u001b[0;32m    311\u001b[0m     \u001b[38;5;66;03m# If we get here and p.returncode is still None, we must have\u001b[39;00m\n\u001b[0;32m    312\u001b[0m     \u001b[38;5;66;03m# killed it but not yet seen its return code. We don't wait for it,\u001b[39;00m\n\u001b[0;32m    313\u001b[0m     \u001b[38;5;66;03m# in case it's stuck in uninterruptible sleep. -9 = SIGKILL\u001b[39;00m\n\u001b[0;32m    314\u001b[0m     rc \u001b[38;5;241m=\u001b[39m p\u001b[38;5;241m.\u001b[39mreturncode \u001b[38;5;129;01mor\u001b[39;00m \u001b[38;5;241m-\u001b[39m\u001b[38;5;241m9\u001b[39m\n\u001b[1;32m--> 315\u001b[0m     \u001b[38;5;28;01mraise\u001b[39;00m CalledProcessError(rc, cell)\n",
      "\u001b[1;31mCalledProcessError\u001b[0m: Command 'b'ls\\n'' returned non-zero exit status 1."
     ]
    }
   ],
   "source": [
    "%%bash\n",
    "ls"
   ]
  },
  {
   "cell_type": "markdown",
   "metadata": {
    "id": "VY48mAXCuRa-"
   },
   "source": [
    "# Uvod u Python\n",
    "\n",
    "Python je moćan interpretirani jezik visoke razine."
   ]
  },
  {
   "cell_type": "markdown",
   "metadata": {
    "id": "qgtLgu0-uplS"
   },
   "source": [
    "## Varijable"
   ]
  },
  {
   "cell_type": "markdown",
   "metadata": {
    "id": "aJ0yODE9dpV6"
   },
   "source": [
    "Cijeli brojevi"
   ]
  },
  {
   "cell_type": "code",
   "execution_count": 10,
   "metadata": {
    "id": "EJ4tZ5gYdrOv"
   },
   "outputs": [
    {
     "name": "stdout",
     "output_type": "stream",
     "text": [
      "Sum, difference, division: 3 -1 0\n"
     ]
    }
   ],
   "source": [
    "a = 1\n",
    "b = 2\n",
    "print(\"Sum, difference, division:\", a + b, a - b, a // b)"
   ]
  },
  {
   "cell_type": "markdown",
   "metadata": {
    "id": "ZPpnUzuudus2"
   },
   "source": [
    "Brojevi s pomičnim zarezom"
   ]
  },
  {
   "cell_type": "code",
   "execution_count": 11,
   "metadata": {
    "id": "oRM7cXildxrf"
   },
   "outputs": [
    {
     "name": "stdout",
     "output_type": "stream",
     "text": [
      "Brojevi s pomičnim zarezom: 0.5\n"
     ]
    }
   ],
   "source": [
    "print(\"Brojevi s pomičnim zarezom:\", 1.0 / 2.0)"
   ]
  },
  {
   "cell_type": "markdown",
   "metadata": {
    "id": "Q6IzYW72d2Na"
   },
   "source": [
    "Kompleksni brojevi"
   ]
  },
  {
   "cell_type": "code",
   "execution_count": 12,
   "metadata": {
    "id": "3ooBQ-HAd4R-"
   },
   "outputs": [
    {
     "name": "stdout",
     "output_type": "stream",
     "text": [
      "Kompleksni brojevi: (1+1j)\n"
     ]
    }
   ],
   "source": [
    "print(\"Kompleksni brojevi:\", 1.0 + 1.0j)"
   ]
  },
  {
   "cell_type": "markdown",
   "metadata": {
    "id": "aRtsNkxLd7AB"
   },
   "source": [
    "Booleans"
   ]
  },
  {
   "cell_type": "code",
   "execution_count": 13,
   "metadata": {
    "id": "mzvtZ2RceARU"
   },
   "outputs": [
    {
     "name": "stdout",
     "output_type": "stream",
     "text": [
      "Boolean operations: True False False\n"
     ]
    }
   ],
   "source": [
    "a = True\n",
    "b = False\n",
    "print(\"Boolean operations:\", a or b, a and b, not a)"
   ]
  },
  {
   "cell_type": "markdown",
   "metadata": {
    "id": "uVzLWAp7eCch"
   },
   "source": [
    "Stringovi"
   ]
  },
  {
   "cell_type": "code",
   "execution_count": 14,
   "metadata": {
    "id": "jx9zZkzSeHH1"
   },
   "outputs": [
    {
     "name": "stdout",
     "output_type": "stream",
     "text": [
      "String: Ovo je string u Pythonu\n"
     ]
    }
   ],
   "source": [
    "a = \"Ovo je string u Pythonu\"\n",
    "print(\"String:\", a)"
   ]
  },
  {
   "cell_type": "markdown",
   "metadata": {
    "id": "kgTGxeOFeLd1"
   },
   "source": [
    "Mogu se upotrebljavati i jednostruki navodnici"
   ]
  },
  {
   "cell_type": "code",
   "execution_count": 15,
   "metadata": {
    "id": "EkSoAMuJeIlX"
   },
   "outputs": [
    {
     "data": {
      "text/plain": [
       "'Ovo je takodjer string'"
      ]
     },
     "execution_count": 15,
     "metadata": {},
     "output_type": "execute_result"
    }
   ],
   "source": [
    "a = 'Ovo je takodjer string'\n",
    "a"
   ]
  },
  {
   "cell_type": "markdown",
   "metadata": {
    "id": "IvlWLUGLePla"
   },
   "source": [
    "Dugačak string se može razdijeliti na sljedeći način"
   ]
  },
  {
   "cell_type": "code",
   "execution_count": 16,
   "metadata": {
    "id": "Kv_M49fpeS0E"
   },
   "outputs": [
    {
     "data": {
      "text/plain": [
       "'Veoma Veoma Veoma dugacak dugacak dugacak string u Pythonu'"
      ]
     },
     "execution_count": 16,
     "metadata": {},
     "output_type": "execute_result"
    }
   ],
   "source": [
    "a = (\"Veoma Veoma Veoma \"\n",
    "     \"dugacak dugacak dugacak \"\n",
    "     \"string u Pythonu\"\n",
    "    )\n",
    "a"
   ]
  },
  {
   "cell_type": "markdown",
   "metadata": {
    "id": "-_UfrpwQeXi4"
   },
   "source": [
    "Ili uspotrebljavajte multiline string"
   ]
  },
  {
   "cell_type": "code",
   "execution_count": 17,
   "metadata": {
    "id": "uAMadNw5eZQ7"
   },
   "outputs": [
    {
     "data": {
      "text/plain": [
       "'ovo\\nje\\nmultiline \\nstring'"
      ]
     },
     "execution_count": 17,
     "metadata": {},
     "output_type": "execute_result"
    }
   ],
   "source": [
    "a = \"\"\"ovo\n",
    "je\n",
    "multiline \n",
    "string\"\"\"\n",
    "a"
   ]
  },
  {
   "cell_type": "markdown",
   "metadata": {
    "id": "OJXyqzJ_ehNm"
   },
   "source": [
    "Konkatenacija Stringa"
   ]
  },
  {
   "cell_type": "code",
   "execution_count": 18,
   "metadata": {
    "id": "wxNX3yCOejzb"
   },
   "outputs": [
    {
     "data": {
      "text/plain": [
       "'string'"
      ]
     },
     "execution_count": 18,
     "metadata": {},
     "output_type": "execute_result"
    }
   ],
   "source": [
    "\"str\" + \"ing\""
   ]
  },
  {
   "cell_type": "markdown",
   "metadata": {
    "id": "gyJYt_dJepTs"
   },
   "source": [
    "Jedna od korisnih string metoda:"
   ]
  },
  {
   "cell_type": "code",
   "execution_count": 19,
   "metadata": {
    "id": "TfkggKXletFA"
   },
   "outputs": [
    {
     "name": "stdout",
     "output_type": "stream",
     "text": [
      "True\n"
     ]
    }
   ],
   "source": [
    "print(\"string\".startswith(\"str\"))"
   ]
  },
  {
   "cell_type": "markdown",
   "metadata": {
    "id": "vtQDPYB-fY7x"
   },
   "source": [
    "Testirajte sljedeće metode: `.endswith`, `.join`, `.capitalize`"
   ]
  },
  {
   "cell_type": "code",
   "execution_count": 23,
   "metadata": {},
   "outputs": [
    {
     "name": "stdout",
     "output_type": "stream",
     "text": [
      "astringa\n"
     ]
    }
   ],
   "source": [
    "print(\"string\".join(\"aa\"))"
   ]
  },
  {
   "cell_type": "markdown",
   "metadata": {
    "id": "rWnykIjkfhly"
   },
   "source": [
    "String formatting"
   ]
  },
  {
   "cell_type": "code",
   "execution_count": 24,
   "metadata": {
    "id": "PToq0omNflP2"
   },
   "outputs": [
    {
     "data": {
      "text/plain": [
       "'This is a number 10, this is another number 20!'"
      ]
     },
     "execution_count": 24,
     "metadata": {},
     "output_type": "execute_result"
    }
   ],
   "source": [
    "\"This is a number {}, this is another number {}!\".format(10, 20)"
   ]
  },
  {
   "cell_type": "markdown",
   "metadata": {
    "id": "WgYzAHHSf00K"
   },
   "source": [
    "Moguće je specificirati kako je broj formatiran"
   ]
  },
  {
   "cell_type": "code",
   "execution_count": 25,
   "metadata": {
    "id": "zGGlXdZQuKnG"
   },
   "outputs": [
    {
     "data": {
      "text/plain": [
       "'This is pi 3.14!'"
      ]
     },
     "execution_count": 25,
     "metadata": {},
     "output_type": "execute_result"
    }
   ],
   "source": [
    "\"This is pi {:0.2f}!\".format(3.1415)"
   ]
  },
  {
   "cell_type": "markdown",
   "metadata": {
    "id": "e2UqKCEDf4n9"
   },
   "source": [
    "Format stringovi izgledaju ovako:"
   ]
  },
  {
   "cell_type": "code",
   "execution_count": 26,
   "metadata": {
    "id": "vao_Xk17f_BP"
   },
   "outputs": [
    {
     "data": {
      "text/plain": [
       "'This is sum of 2 and 3: 5'"
      ]
     },
     "execution_count": 26,
     "metadata": {},
     "output_type": "execute_result"
    }
   ],
   "source": [
    "f\"This is sum of 2 and 3: {2 + 3}\""
   ]
  },
  {
   "cell_type": "markdown",
   "metadata": {
    "id": "yDBje-obvc9B"
   },
   "source": [
    "## Jednostavne data strukture: lists, maps, sets, tuples\n",
    "\n",
    "Liste are zamišljenje za pohranjivanje vrijednosti u nizu."
   ]
  },
  {
   "cell_type": "markdown",
   "metadata": {
    "id": "qZp9Hx-9hIRC"
   },
   "source": [
    "### Liste"
   ]
  },
  {
   "cell_type": "code",
   "execution_count": 27,
   "metadata": {
    "id": "iEO10YjSgEiP"
   },
   "outputs": [
    {
     "data": {
      "text/plain": [
       "[1, 4, 2, 3, 8, 7, 6, 5]"
      ]
     },
     "execution_count": 27,
     "metadata": {},
     "output_type": "execute_result"
    }
   ],
   "source": [
    "array = [1, 4, 2, 3, 8, 7, 6, 5]\n",
    "array"
   ]
  },
  {
   "cell_type": "code",
   "execution_count": 28,
   "metadata": {
    "id": "vTBtlmzlgQUN"
   },
   "outputs": [
    {
     "data": {
      "text/plain": [
       "1"
      ]
     },
     "execution_count": 28,
     "metadata": {},
     "output_type": "execute_result"
    }
   ],
   "source": [
    "array[0]"
   ]
  },
  {
   "cell_type": "code",
   "execution_count": 29,
   "metadata": {
    "id": "tBZ0HPHLgeDc"
   },
   "outputs": [
    {
     "data": {
      "text/plain": [
       "[4, 2, 3, 8]"
      ]
     },
     "execution_count": 29,
     "metadata": {},
     "output_type": "execute_result"
    }
   ],
   "source": [
    "array[1:5]"
   ]
  },
  {
   "cell_type": "code",
   "execution_count": 30,
   "metadata": {
    "id": "0FU3YcmKgmWG"
   },
   "outputs": [
    {
     "data": {
      "text/plain": [
       "[1, 4, 2, 3, 8]"
      ]
     },
     "execution_count": 30,
     "metadata": {},
     "output_type": "execute_result"
    }
   ],
   "source": [
    "array[:5]"
   ]
  },
  {
   "cell_type": "code",
   "execution_count": 31,
   "metadata": {
    "id": "2ND4QRgggqbV"
   },
   "outputs": [
    {
     "data": {
      "text/plain": [
       "[7, 6, 5]"
      ]
     },
     "execution_count": 31,
     "metadata": {},
     "output_type": "execute_result"
    }
   ],
   "source": [
    "array[5:]"
   ]
  },
  {
   "cell_type": "code",
   "execution_count": 32,
   "metadata": {
    "id": "8AU5C2aZgxs-"
   },
   "outputs": [
    {
     "data": {
      "text/plain": [
       "[2, 8, 6]"
      ]
     },
     "execution_count": 32,
     "metadata": {},
     "output_type": "execute_result"
    }
   ],
   "source": [
    "array[2:7:2]"
   ]
  },
  {
   "cell_type": "markdown",
   "metadata": {
    "id": "UFoYM9Vtg33H"
   },
   "source": [
    "Liste mogu sadržavati vrijednosti različitih tipova"
   ]
  },
  {
   "cell_type": "code",
   "execution_count": 33,
   "metadata": {
    "id": "sgHBH0SAvcYB"
   },
   "outputs": [
    {
     "data": {
      "text/plain": [
       "[1, 1e-08, 'Hello']"
      ]
     },
     "execution_count": 33,
     "metadata": {},
     "output_type": "execute_result"
    }
   ],
   "source": [
    "[1, 1e-8, \"Hello\"]"
   ]
  },
  {
   "cell_type": "markdown",
   "metadata": {
    "id": "SPP1Cyajwpfa"
   },
   "source": [
    "### Mape\n",
    "Mape (riječnici) mogu pohraniti odnose između parova vrijednosti"
   ]
  },
  {
   "cell_type": "code",
   "execution_count": 34,
   "metadata": {
    "id": "E9B-8IZ2hVJo"
   },
   "outputs": [
    {
     "data": {
      "text/plain": [
       "{'height': 100.0, 'width': 20.0, 'depth': 10.0}"
      ]
     },
     "execution_count": 34,
     "metadata": {},
     "output_type": "execute_result"
    }
   ],
   "source": [
    "m = {\"height\": 100., \n",
    "     \"width\": 20.,\n",
    "     \"depth\": 10.}\n",
    "m"
   ]
  },
  {
   "cell_type": "markdown",
   "metadata": {
    "id": "_sJCy0_chf3h"
   },
   "source": [
    "Dohvaćanje vrijednosti po key-u"
   ]
  },
  {
   "cell_type": "code",
   "execution_count": 35,
   "metadata": {
    "id": "RyqblTcihk4i"
   },
   "outputs": [
    {
     "data": {
      "text/plain": [
       "20.0"
      ]
     },
     "execution_count": 35,
     "metadata": {},
     "output_type": "execute_result"
    }
   ],
   "source": [
    "m[\"width\"]"
   ]
  },
  {
   "cell_type": "markdown",
   "metadata": {
    "id": "GaRxKo1qhmca"
   },
   "source": [
    "Provjera sadrži li mapa key"
   ]
  },
  {
   "cell_type": "code",
   "execution_count": 36,
   "metadata": {
    "id": "WqOa9VOZh1OA"
   },
   "outputs": [
    {
     "data": {
      "text/plain": [
       "False"
      ]
     },
     "execution_count": 36,
     "metadata": {},
     "output_type": "execute_result"
    }
   ],
   "source": [
    "\"name\" in m"
   ]
  },
  {
   "cell_type": "markdown",
   "metadata": {
    "id": "s5Zeyapsh6Go"
   },
   "source": [
    "Dodavanje nove key-value para"
   ]
  },
  {
   "cell_type": "code",
   "execution_count": 37,
   "metadata": {
    "id": "O7iSJmrah-C1"
   },
   "outputs": [],
   "source": [
    "m[\"name\"] = \"rectangle\""
   ]
  },
  {
   "cell_type": "markdown",
   "metadata": {
    "id": "ILJJI_GFiBOy"
   },
   "source": [
    "Ili zamijeniti postojeći"
   ]
  },
  {
   "cell_type": "code",
   "execution_count": 38,
   "metadata": {
    "id": "PMGZPVR3iDcN"
   },
   "outputs": [],
   "source": [
    "m[\"name\"] = \"RECTANGLE\""
   ]
  },
  {
   "cell_type": "code",
   "execution_count": 39,
   "metadata": {},
   "outputs": [
    {
     "data": {
      "text/plain": [
       "{'height': 100.0, 'width': 20.0, 'depth': 10.0, 'name': 'RECTANGLE'}"
      ]
     },
     "execution_count": 39,
     "metadata": {},
     "output_type": "execute_result"
    }
   ],
   "source": [
    "m"
   ]
  },
  {
   "cell_type": "markdown",
   "metadata": {
    "id": "0R5Wm0sFiFlp"
   },
   "source": [
    "Izbrisati key/vrijednost"
   ]
  },
  {
   "cell_type": "code",
   "execution_count": 40,
   "metadata": {
    "id": "-cMBVYYEiHNT"
   },
   "outputs": [
    {
     "data": {
      "text/plain": [
       "'RECTANGLE'"
      ]
     },
     "execution_count": 40,
     "metadata": {},
     "output_type": "execute_result"
    }
   ],
   "source": [
    "m.pop(\"name\")"
   ]
  },
  {
   "cell_type": "markdown",
   "metadata": {
    "id": "kdYzR2X0zWNE"
   },
   "source": [
    "### Tuples\n",
    "Tuples su slične listama, ali su nepromjenjivi -- ne mogu se mijenjati"
   ]
  },
  {
   "cell_type": "code",
   "execution_count": 41,
   "metadata": {
    "id": "yJSXyvBqzBnc"
   },
   "outputs": [
    {
     "ename": "TypeError",
     "evalue": "'tuple' object does not support item assignment",
     "output_type": "error",
     "traceback": [
      "\u001b[1;31m---------------------------------------------------------------------------\u001b[0m",
      "\u001b[1;31mTypeError\u001b[0m                                 Traceback (most recent call last)",
      "Cell \u001b[1;32mIn[41], line 8\u001b[0m\n\u001b[0;32m      5\u001b[0m my_array[\u001b[38;5;241m0\u001b[39m] \u001b[38;5;241m=\u001b[39m \u001b[38;5;241m100\u001b[39m\n\u001b[0;32m      7\u001b[0m \u001b[38;5;66;03m# This will raise an exception\u001b[39;00m\n\u001b[1;32m----> 8\u001b[0m \u001b[43mmy_tuple\u001b[49m\u001b[43m[\u001b[49m\u001b[38;5;241;43m0\u001b[39;49m\u001b[43m]\u001b[49m \u001b[38;5;241m=\u001b[39m \u001b[38;5;241m100\u001b[39m\n",
      "\u001b[1;31mTypeError\u001b[0m: 'tuple' object does not support item assignment"
     ]
    }
   ],
   "source": [
    "my_array = [1, 2, 3]\n",
    "my_tuple = (1, 2, 3)\n",
    "\n",
    "# This is OK\n",
    "my_array[0] = 100\n",
    "\n",
    "# This will raise an exception\n",
    "my_tuple[0] = 100"
   ]
  },
  {
   "cell_type": "markdown",
   "metadata": {
    "id": "IBeeqq6u1EP9"
   },
   "source": [
    "### Sets\n",
    "Sets su neuređene zbirke koje podržavaju brzo pretraživanje, umetanje, brisanje i spajanje."
   ]
  },
  {
   "cell_type": "code",
   "execution_count": 42,
   "metadata": {
    "id": "I1aeG-bFzuL1"
   },
   "outputs": [
    {
     "data": {
      "text/plain": [
       "{'cat', 'dog', 'elephant'}"
      ]
     },
     "execution_count": 42,
     "metadata": {},
     "output_type": "execute_result"
    }
   ],
   "source": [
    "animals = {\"cat\", \"dog\", \"elephant\"}\n",
    "animals"
   ]
  },
  {
   "cell_type": "markdown",
   "metadata": {
    "id": "IKTFuoVCiU4U"
   },
   "source": [
    "Provjeri je li neki element u setu"
   ]
  },
  {
   "cell_type": "code",
   "execution_count": 43,
   "metadata": {
    "id": "M2SRdoJ9iZkt"
   },
   "outputs": [
    {
     "data": {
      "text/plain": [
       "True"
      ]
     },
     "execution_count": 43,
     "metadata": {},
     "output_type": "execute_result"
    }
   ],
   "source": [
    "\"cat\" in animals"
   ]
  },
  {
   "cell_type": "markdown",
   "metadata": {
    "id": "IMPig3GCidQP"
   },
   "source": [
    "Operacije nad setom: union, intersection, itd."
   ]
  },
  {
   "cell_type": "code",
   "execution_count": 44,
   "metadata": {
    "id": "zX06oDPPihJY"
   },
   "outputs": [
    {
     "data": {
      "text/plain": [
       "{'cat', 'dog', 'elephant', 'llama', 'zebra'}"
      ]
     },
     "execution_count": 44,
     "metadata": {},
     "output_type": "execute_result"
    }
   ],
   "source": [
    "animals.union({\"zebra\", \"llama\"})"
   ]
  },
  {
   "cell_type": "markdown",
   "metadata": {
    "id": "do27WDEZ1rKc"
   },
   "source": [
    "## Control flow"
   ]
  },
  {
   "cell_type": "markdown",
   "metadata": {
    "id": "ZRLfl1pTkw8w"
   },
   "source": [
    "if / elif"
   ]
  },
  {
   "cell_type": "code",
   "execution_count": 45,
   "metadata": {
    "id": "6RNIP5pmk0a9"
   },
   "outputs": [
    {
     "name": "stdout",
     "output_type": "stream",
     "text": [
      "a is between 3 and 6\n"
     ]
    }
   ],
   "source": [
    "a = int(input())\n",
    "if a > 6:\n",
    "    print(\"a is greater than 6\")\n",
    "elif a < 3:\n",
    "    print(\"a is less than 3\")\n",
    "else:\n",
    "    print(\"a is between 3 and 6\")"
   ]
  },
  {
   "cell_type": "markdown",
   "metadata": {
    "id": "iF11czrvk9Ve"
   },
   "source": [
    "Petlje"
   ]
  },
  {
   "cell_type": "code",
   "execution_count": 46,
   "metadata": {
    "id": "0FKPTPIklBuR"
   },
   "outputs": [
    {
     "name": "stdout",
     "output_type": "stream",
     "text": [
      "1\n",
      "2\n",
      "3\n",
      "4\n"
     ]
    }
   ],
   "source": [
    "for i in [1, 2, 3, 4]:\n",
    "    print(i)"
   ]
  },
  {
   "cell_type": "markdown",
   "metadata": {},
   "source": [
    "Range"
   ]
  },
  {
   "cell_type": "code",
   "execution_count": 47,
   "metadata": {},
   "outputs": [
    {
     "name": "stdout",
     "output_type": "stream",
     "text": [
      "0\n",
      "1\n",
      "2\n",
      "3\n",
      "4\n",
      "5\n",
      "6\n",
      "7\n",
      "8\n",
      "9\n",
      "1\n",
      "2\n",
      "3\n",
      "4\n",
      "5\n",
      "6\n",
      "7\n",
      "8\n",
      "9\n",
      "1\n",
      "3\n",
      "5\n",
      "7\n",
      "9\n",
      "20\n",
      "17\n",
      "14\n",
      "11\n"
     ]
    }
   ],
   "source": [
    "# Example 1:\n",
    "for i in range(10):\n",
    "    print(i)\n",
    "\n",
    "# Example 2:\n",
    "for i in range(1,10):\n",
    "    print(i)\n",
    "\n",
    "# Example 3:\n",
    "for i in range(1,10,2):\n",
    "    print(i)\n",
    "\n",
    "# Example 4:\n",
    "for i in range(20,10,-3):\n",
    "    print(i)"
   ]
  },
  {
   "cell_type": "markdown",
   "metadata": {},
   "source": [
    "Enumerate"
   ]
  },
  {
   "cell_type": "code",
   "execution_count": 48,
   "metadata": {},
   "outputs": [
    {
     "name": "stdout",
     "output_type": "stream",
     "text": [
      "0 a\n",
      "1 b\n",
      "2 c\n"
     ]
    }
   ],
   "source": [
    "# https://realpython.com/python-enumerate/\n",
    "\n",
    "values = [\"a\", \"b\", \"c\"]\n",
    "\n",
    "for count, value in enumerate(values):\n",
    "    print(count, value)"
   ]
  },
  {
   "cell_type": "markdown",
   "metadata": {},
   "source": [
    "zip"
   ]
  },
  {
   "cell_type": "code",
   "execution_count": 49,
   "metadata": {},
   "outputs": [
    {
     "name": "stdout",
     "output_type": "stream",
     "text": [
      "Letter: a\n",
      "Number: 0\n",
      "Letter: b\n",
      "Number: 1\n",
      "Letter: c\n",
      "Number: 2\n"
     ]
    }
   ],
   "source": [
    "letters = ['a', 'b', 'c']\n",
    "numbers = [0, 1, 2]\n",
    "for l, n in zip(letters, numbers):\n",
    "    print(f'Letter: {l}')\n",
    "    print(f'Number: {n}')"
   ]
  },
  {
   "cell_type": "markdown",
   "metadata": {
    "id": "DEXi6o3KlSTw"
   },
   "source": [
    "Iteracije rječnika"
   ]
  },
  {
   "cell_type": "code",
   "execution_count": 50,
   "metadata": {
    "id": "l4j34y5klVQD"
   },
   "outputs": [
    {
     "name": "stdout",
     "output_type": "stream",
     "text": [
      "height 100.0\n",
      "width 20.0\n",
      "depth 10.0\n"
     ]
    }
   ],
   "source": [
    "for k, v in m.items():\n",
    "    print(k, v)"
   ]
  },
  {
   "cell_type": "markdown",
   "metadata": {
    "id": "_82guvm2lb4Y"
   },
   "source": [
    "While petlja\n",
    "\n",
    "*Veoma rijetko se upotrebljava while petlja. Sljedeći primjer nije krakterističan za python!*"
   ]
  },
  {
   "cell_type": "code",
   "execution_count": 51,
   "metadata": {
    "id": "_xAlRHDNlcsV"
   },
   "outputs": [
    {
     "name": "stdout",
     "output_type": "stream",
     "text": [
      "20\n"
     ]
    }
   ],
   "source": [
    "stop = False\n",
    "i = 10\n",
    "while not stop:\n",
    "    i += 1\n",
    "    if i % 10 == 0:\n",
    "        stop = True\n",
    "        \n",
    "print(i)"
   ]
  },
  {
   "cell_type": "markdown",
   "metadata": {
    "id": "1XOUcES3U_7g"
   },
   "source": [
    "## List comprehensions"
   ]
  },
  {
   "cell_type": "code",
   "execution_count": 52,
   "metadata": {},
   "outputs": [
    {
     "data": {
      "text/plain": [
       "[2, 3, 4]"
      ]
     },
     "execution_count": 52,
     "metadata": {},
     "output_type": "execute_result"
    }
   ],
   "source": [
    "i = []\n",
    "for j in [1, 2, 3]:\n",
    "    i.append(j+1)\n",
    "i"
   ]
  },
  {
   "cell_type": "code",
   "execution_count": 53,
   "metadata": {
    "id": "2ii1YsF1VFQt"
   },
   "outputs": [
    {
     "data": {
      "text/plain": [
       "[2, 3, 4]"
      ]
     },
     "execution_count": 53,
     "metadata": {},
     "output_type": "execute_result"
    }
   ],
   "source": [
    "[i + 1 for i in [1, 2, 3]]"
   ]
  },
  {
   "cell_type": "markdown",
   "metadata": {
    "id": "sP1oejrKVUIo"
   },
   "source": [
    "Radi i za rječnike također"
   ]
  },
  {
   "cell_type": "code",
   "execution_count": 54,
   "metadata": {
    "id": "adCDsD7CVOXi"
   },
   "outputs": [
    {
     "data": {
      "text/plain": [
       "{'1': 2, '2': 3, '3': 4}"
      ]
     },
     "execution_count": 54,
     "metadata": {},
     "output_type": "execute_result"
    }
   ],
   "source": [
    "{str(i): i + 1 for i in [1, 2, 3]}"
   ]
  },
  {
   "cell_type": "markdown",
   "metadata": {
    "id": "Hr1sBDl6NBCt"
   },
   "source": [
    "## Funkcije"
   ]
  },
  {
   "cell_type": "markdown",
   "metadata": {
    "id": "GnLRc_CKxFsf"
   },
   "source": [
    "Definiranje funkcija"
   ]
  },
  {
   "cell_type": "code",
   "execution_count": 55,
   "metadata": {
    "id": "TZJF3UL2M7fg"
   },
   "outputs": [
    {
     "data": {
      "text/plain": [
       "True"
      ]
     },
     "execution_count": 55,
     "metadata": {},
     "output_type": "execute_result"
    }
   ],
   "source": [
    "def is_odd(a):\n",
    "    return a % 2 == 0\n",
    "\n",
    "is_odd(2)"
   ]
  },
  {
   "cell_type": "markdown",
   "metadata": {
    "id": "lPhb-mFxxNNp"
   },
   "source": [
    "Funkcije mogu biti definirane unutar funkcija"
   ]
  },
  {
   "cell_type": "code",
   "execution_count": 56,
   "metadata": {
    "id": "VYbAIDuBxRne"
   },
   "outputs": [
    {
     "data": {
      "text/plain": [
       "True"
      ]
     },
     "execution_count": 56,
     "metadata": {},
     "output_type": "execute_result"
    }
   ],
   "source": [
    "def is_odd(a):\n",
    "    \n",
    "    def is_divisible(number, base):\n",
    "        return number % base == 0\n",
    "    \n",
    "    return is_divisible(a, 2)\n",
    "\n",
    "is_odd(2)"
   ]
  },
  {
   "cell_type": "markdown",
   "metadata": {
    "id": "Hoh9vryhxckA"
   },
   "source": [
    "Možete dodijeliti predefinirane argumente."
   ]
  },
  {
   "cell_type": "code",
   "execution_count": 58,
   "metadata": {
    "id": "SbjDzfrVfmF6"
   },
   "outputs": [
    {
     "data": {
      "text/plain": [
       "3"
      ]
     },
     "execution_count": 58,
     "metadata": {},
     "output_type": "execute_result"
    }
   ],
   "source": [
    "def add_or_subtract(first, second, operation=\"sum\"):\n",
    "    if operation == \"sum\":\n",
    "        return first + second\n",
    "    elif operation == \"sub\":\n",
    "        return first - second\n",
    "    else:\n",
    "        print(\"Operation not permitted\")\n",
    "\n",
    "add_or_subtract(1,2)"
   ]
  },
  {
   "cell_type": "markdown",
   "metadata": {
    "id": "1Lp6YB6fxqpP"
   },
   "source": [
    "Varargs: veličina argumenta varijable"
   ]
  },
  {
   "cell_type": "code",
   "execution_count": 59,
   "metadata": {
    "id": "181garp6xsKA"
   },
   "outputs": [
    {
     "name": "stdout",
     "output_type": "stream",
     "text": [
      "Sum of all integers up to 10 = 45\n"
     ]
    }
   ],
   "source": [
    "def sum_all(*args):\n",
    "    # args is a list of arguments\n",
    "    result = 0\n",
    "    for arg in args:\n",
    "        result += arg\n",
    "    return result\n",
    "\n",
    "# Call vararg function\n",
    "print(\"Sum of all integers up to 10 =\", sum_all(1, 2, 3, 4, 5, 6, 7, 8, 9))"
   ]
  },
  {
   "cell_type": "markdown",
   "metadata": {
    "id": "dmKKnwyox7Ai"
   },
   "source": [
    "Keyword argumenti"
   ]
  },
  {
   "cell_type": "code",
   "execution_count": 60,
   "metadata": {
    "id": "WJPliTlnx92u"
   },
   "outputs": [
    {
     "name": "stdout",
     "output_type": "stream",
     "text": [
      "a 1\n",
      "b 2\n"
     ]
    }
   ],
   "source": [
    "def print_pairs(**kwargs):\n",
    "    # kwargs is a map\n",
    "    for k, v in kwargs.items():\n",
    "        print(k, v)\n",
    "        \n",
    "print_pairs(a=1, b=2)"
   ]
  },
  {
   "cell_type": "markdown",
   "metadata": {
    "id": "51bg23Fmx-6b"
   },
   "source": [
    "Keyword-only argumenti"
   ]
  },
  {
   "cell_type": "code",
   "execution_count": 61,
   "metadata": {
    "id": "RqZwL6WHyHPN"
   },
   "outputs": [
    {
     "name": "stdout",
     "output_type": "stream",
     "text": [
      "Car created with speed 9 and size 3\n"
     ]
    }
   ],
   "source": [
    "def create_car(*, speed, size):\n",
    "    print(\"Car created with speed\", speed, \"and size\", size)\n",
    "    \n",
    "create_car(speed=9, size=3)"
   ]
  },
  {
   "cell_type": "markdown",
   "metadata": {
    "id": "k3Y-h7EAyYhS"
   },
   "source": [
    "Funkcije kao parametri\n",
    "\n",
    "Moguće je proslijediti funkciju kao argument, pretpostavlja se da operacija ovdje predstavlja funkciju"
   ]
  },
  {
   "cell_type": "code",
   "execution_count": 62,
   "metadata": {
    "id": "b_JDJT_6mrqu"
   },
   "outputs": [],
   "source": [
    "def reduce(array, operation):\n",
    "    result = 0\n",
    "    for k, v in enumerate(array):\n",
    "        if k == 0:\n",
    "            result = v\n",
    "        else:\n",
    "            result = operation(v, result)\n",
    "  \n",
    "    return result"
   ]
  },
  {
   "cell_type": "markdown",
   "metadata": {
    "id": "X43dSGaQzHye"
   },
   "source": [
    "Primijenite poziv funkcije sa drugom funkciojm `add_or_subtract`\n"
   ]
  },
  {
   "cell_type": "code",
   "execution_count": 63,
   "metadata": {
    "id": "6rE5TSZRzFWW"
   },
   "outputs": [
    {
     "name": "stdout",
     "output_type": "stream",
     "text": [
      "[1, 2, 3, 4, 5, 6, 7, 8, 9]\n",
      "Sum of the array\n"
     ]
    },
    {
     "data": {
      "text/plain": [
       "45"
      ]
     },
     "execution_count": 63,
     "metadata": {},
     "output_type": "execute_result"
    }
   ],
   "source": [
    "one_to_nine = [1, 2, 3, 4, 5, 6, 7, 8, 9]\n",
    "print(one_to_nine)\n",
    "\n",
    "print(\"Sum of the array\")\n",
    "#The operation is infered from the default parameter of add_or_subtract\n",
    "reduce(one_to_nine, add_or_subtract)"
   ]
  },
  {
   "cell_type": "markdown",
   "metadata": {
    "id": "8tiErQ4PzdFH"
   },
   "source": [
    "### Lambde\n",
    "\n",
    "Funkcija se može definirati anonimno"
   ]
  },
  {
   "cell_type": "code",
   "execution_count": 64,
   "metadata": {
    "id": "a8bWni3hzadd"
   },
   "outputs": [
    {
     "name": "stdout",
     "output_type": "stream",
     "text": [
      "Product of the array\n"
     ]
    },
    {
     "data": {
      "text/plain": [
       "362880"
      ]
     },
     "execution_count": 64,
     "metadata": {},
     "output_type": "execute_result"
    }
   ],
   "source": [
    "print(\"Product of the array\")\n",
    "reduce(one_to_nine, lambda x, y : x * y)"
   ]
  },
  {
   "cell_type": "markdown",
   "metadata": {
    "id": "8rBsR8TgzkhS"
   },
   "source": [
    "### Closures\n",
    "\n",
    "Funkcija može vratiti drugu funkciju s određenim ponašanjem ovisno o argumentima"
   ]
  },
  {
   "cell_type": "code",
   "execution_count": null,
   "metadata": {
    "id": "NQ9l5wxZm4SV"
   },
   "outputs": [],
   "source": [
    "def get_loss(op_reduce, op_foreach):\n",
    "  \n",
    "    def loss(a, b):\n",
    "        c = []\n",
    "        for av, bv in zip(a, b):\n",
    "            c.append(op_foreach(av, bv))\n",
    "        return op_reduce(c)\n",
    "  \n",
    "    return loss"
   ]
  },
  {
   "cell_type": "markdown",
   "metadata": {
    "id": "-L5B35yEz4Ic"
   },
   "source": [
    "Ova funkcija može pomoći u definiranju srednje kvadratne pogreške"
   ]
  },
  {
   "cell_type": "code",
   "execution_count": null,
   "metadata": {
    "id": "w4a2_Al4z4qW"
   },
   "outputs": [],
   "source": [
    "mse_loss = get_loss(lambda x : sum(x)/len(x), lambda a, b : (a - b) ** 2)"
   ]
  },
  {
   "cell_type": "markdown",
   "metadata": {
    "id": "jXVJNuY40ARh"
   },
   "source": [
    "Ili srednje apsolutne pogreške"
   ]
  },
  {
   "cell_type": "code",
   "execution_count": null,
   "metadata": {
    "id": "MYcFxRq70A4K"
   },
   "outputs": [],
   "source": [
    "mae_loss = get_loss(lambda x : sum(x)/len(x), lambda a, b : abs(a - b))"
   ]
  },
  {
   "cell_type": "markdown",
   "metadata": {
    "id": "FDKP5V-c0GY8"
   },
   "source": [
    "Možemo provjeriti radi li kao što je predviđeno"
   ]
  },
  {
   "cell_type": "code",
   "execution_count": null,
   "metadata": {
    "id": "oYIyTRmN0G6r"
   },
   "outputs": [],
   "source": [
    "list1 = [0, 1, 1, 3, 0, 2, 3]\n",
    "list2 = [1, 1, 2, 0, 0, 2, 3]\n",
    "\n",
    "list_mse = mse_loss(list1, list2)\n",
    "list_mae = mae_loss(list1, list2)\n",
    "\n",
    "print(\"Two lists:\\n\", list1, \"\\n\", list2)\n",
    "print(\"MSE Loss: {}\\nMAE Loss: {}\".format(list_mse, list_mae))"
   ]
  },
  {
   "cell_type": "markdown",
   "metadata": {
    "id": "LoPGG5zNAjoU"
   },
   "source": [
    "## Exception"
   ]
  },
  {
   "cell_type": "code",
   "execution_count": 65,
   "metadata": {
    "id": "eYsGH9tQAlHr"
   },
   "outputs": [
    {
     "ename": "Exception",
     "evalue": "",
     "output_type": "error",
     "traceback": [
      "\u001b[1;31m---------------------------------------------------------------------------\u001b[0m",
      "\u001b[1;31mException\u001b[0m                                 Traceback (most recent call last)",
      "Cell \u001b[1;32mIn[65], line 2\u001b[0m\n\u001b[0;32m      1\u001b[0m \u001b[38;5;66;03m# Throw exception\u001b[39;00m\n\u001b[1;32m----> 2\u001b[0m \u001b[38;5;28;01mraise\u001b[39;00m \u001b[38;5;167;01mException\u001b[39;00m\n\u001b[0;32m      4\u001b[0m \u001b[38;5;28;01mraise\u001b[39;00m \u001b[38;5;167;01mException\u001b[39;00m(\u001b[38;5;124m\"\u001b[39m\u001b[38;5;124mSomething went wrong\u001b[39m\u001b[38;5;124m\"\u001b[39m)\n\u001b[0;32m      5\u001b[0m \u001b[38;5;28;01mraise\u001b[39;00m \u001b[38;5;167;01mValueError\u001b[39;00m\n",
      "\u001b[1;31mException\u001b[0m: "
     ]
    }
   ],
   "source": [
    "# Throw exception\n",
    "raise Exception\n",
    "\n",
    "raise Exception(\"Something went wrong\")\n",
    "raise ValueError\n",
    "raise IndexError\n",
    "raise StopIteration"
   ]
  },
  {
   "cell_type": "code",
   "execution_count": 66,
   "metadata": {
    "id": "IwpCXA3nA3Ap"
   },
   "outputs": [
    {
     "name": "stdout",
     "output_type": "stream",
     "text": [
      "Do something else\n",
      "This part runs always. It is useful for closing files or releasing other resources\n"
     ]
    }
   ],
   "source": [
    "# Catch exceptions\n",
    "try:\n",
    "    raise ValueError\n",
    "except ValueError:\n",
    "    print(\"Do something else\")\n",
    "finally:\n",
    "    print(\"This part runs always. It is useful for closing files or \"\n",
    "          \"releasing other resources\")"
   ]
  },
  {
   "cell_type": "markdown",
   "metadata": {
    "id": "p1cOGDXHCR-O"
   },
   "source": [
    "## Klase"
   ]
  },
  {
   "cell_type": "markdown",
   "metadata": {
    "id": "r-PruhWd02K0"
   },
   "source": [
    "Definicija klase"
   ]
  },
  {
   "cell_type": "code",
   "execution_count": 67,
   "metadata": {
    "id": "IRXa51OfCPEk"
   },
   "outputs": [],
   "source": [
    "class Shape:\n",
    "    pass"
   ]
  },
  {
   "cell_type": "markdown",
   "metadata": {
    "id": "y93ArCva06GI"
   },
   "source": [
    "`shape` je objekt klase `Shape`"
   ]
  },
  {
   "cell_type": "code",
   "execution_count": 68,
   "metadata": {
    "id": "0m2SgTiS06tB"
   },
   "outputs": [],
   "source": [
    "shape = Shape()"
   ]
  },
  {
   "cell_type": "markdown",
   "metadata": {
    "id": "F6zvhV8H1BVA"
   },
   "source": [
    "U legacy python-u se koristio način pisanja\n",
    "```python\n",
    "class Shape(object):\n",
    "```\n",
    "Ovo nije više potrebno\n",
    "osim ako ne očekujete da će netko pokrenuti vaš kod u legacy okruženju"
   ]
  },
  {
   "cell_type": "markdown",
   "metadata": {
    "id": "C-Kvdhg41Ju3"
   },
   "source": [
    "Malo više o definiranju klasa"
   ]
  },
  {
   "cell_type": "code",
   "execution_count": 69,
   "metadata": {
    "id": "1tCXVcPAB4YQ"
   },
   "outputs": [
    {
     "name": "stdout",
     "output_type": "stream",
     "text": [
      "UUPZ\n"
     ]
    }
   ],
   "source": [
    "class Shape:\n",
    "    class_field = 9\n",
    "    \n",
    "    def __init__(self, name):\n",
    "        self.name = name\n",
    "        self.value = 42\n",
    "    \n",
    "    def method(self, a):\n",
    "        return a * 2 + self.value\n",
    "\n",
    "shape = Shape(\"UUPZ\")\n",
    "print(shape.name)"
   ]
  },
  {
   "cell_type": "markdown",
   "metadata": {
    "id": "dKU0asYuazOF"
   },
   "source": [
    "## Imports\n",
    "\n",
    "Dodavanje novih paketa u python vrlo je jednostavno i mnogi su paketi dostupni. Ako želite neku biblioteku, velika je vjerojatnost da ju je netko drugi već napisao.\n",
    "\n",
    "Općenito, to izgledao ovako:"
   ]
  },
  {
   "cell_type": "code",
   "execution_count": null,
   "metadata": {
    "id": "VFeYVIqocjsm"
   },
   "outputs": [],
   "source": [
    "import time\n",
    "\n",
    "time.time()"
   ]
  },
  {
   "cell_type": "markdown",
   "metadata": {
    "id": "0pNMsOuJctzb"
   },
   "source": [
    "Možete odrediti koje dijelove paketa želite uvesti"
   ]
  },
  {
   "cell_type": "code",
   "execution_count": 70,
   "metadata": {
    "id": "jfy8OQqwcr0A"
   },
   "outputs": [
    {
     "name": "stdout",
     "output_type": "stream",
     "text": [
      "1711022246.001244\n",
      "1711022248.0044858\n"
     ]
    }
   ],
   "source": [
    "from time import time, sleep\n",
    "\n",
    "print(time())\n",
    "sleep(2)\n",
    "print(time())"
   ]
  },
  {
   "cell_type": "markdown",
   "metadata": {
    "id": "mSBeBMM-Vi-z"
   },
   "source": [
    "## Druga zanimljiva svojstva"
   ]
  },
  {
   "cell_type": "markdown",
   "metadata": {
    "id": "LrQ4hw8KVliz"
   },
   "source": [
    "Multiple assignment"
   ]
  },
  {
   "cell_type": "code",
   "execution_count": null,
   "metadata": {
    "id": "xq5p8zc9VqW8"
   },
   "outputs": [],
   "source": [
    "a, b = 10, 11"
   ]
  },
  {
   "cell_type": "markdown",
   "metadata": {
    "id": "8M8zrRNkVuHM"
   },
   "source": [
    "It works with any kind of list-like objects!"
   ]
  },
  {
   "cell_type": "code",
   "execution_count": null,
   "metadata": {
    "id": "bKPgc-E2Vxfp"
   },
   "outputs": [],
   "source": [
    "a, b = [10, 11]"
   ]
  },
  {
   "cell_type": "markdown",
   "metadata": {
    "id": "rXH3h0TVVz8r"
   },
   "source": [
    "Starred assignment expressions"
   ]
  },
  {
   "cell_type": "code",
   "execution_count": 71,
   "metadata": {
    "id": "ydvlwtxOV819"
   },
   "outputs": [
    {
     "name": "stdout",
     "output_type": "stream",
     "text": [
      "[2, 3, 4]\n"
     ]
    }
   ],
   "source": [
    "a, *b = [1, 2, 3, 4]\n",
    "print(b)"
   ]
  },
  {
   "cell_type": "markdown",
   "metadata": {
    "id": "FZ4l0DS_WB5-"
   },
   "source": [
    "Radi za prefikse i sufikse"
   ]
  },
  {
   "cell_type": "code",
   "execution_count": 72,
   "metadata": {
    "id": "eX2_V2CRWHLh"
   },
   "outputs": [
    {
     "name": "stdout",
     "output_type": "stream",
     "text": [
      "[1, 2]\n"
     ]
    }
   ],
   "source": [
    "*a, b, c = [1, 2, 3, 4]\n",
    "print(a)"
   ]
  },
  {
   "cell_type": "markdown",
   "metadata": {
    "id": "XHmrP9ayaG6X"
   },
   "source": [
    "# Vježbe"
   ]
  },
  {
   "cell_type": "markdown",
   "metadata": {
    "id": "cUE9SvlVdc4_"
   },
   "source": [
    "## Vježba 1\n",
    "\n",
    "Napišite funkciju koja uzorkuje uniformni slučajni broj od `a` do `b`.\n",
    "\n",
    "Koristite funkciju `random.random` iz biblioteke `random`. Dokumentaciju možete pogledati [ovdje](https://docs.python.org/3.7/library/random.html)"
   ]
  },
  {
   "cell_type": "code",
   "execution_count": 90,
   "metadata": {
    "id": "Jy7ND3SRkeCj"
   },
   "outputs": [
    {
     "data": {
      "text/plain": [
       "9.375453664850939"
      ]
     },
     "execution_count": 90,
     "metadata": {},
     "output_type": "execute_result"
    }
   ],
   "source": [
    "import random\n",
    "\n",
    "def sample_one(*, start, end):\n",
    "    return random.random() * (end - start) + start\n",
    "\n",
    "sample_one(start = 7, end = 10)"
   ]
  },
  {
   "cell_type": "markdown",
   "metadata": {
    "id": "p7CIN4iWr3tx"
   },
   "source": [
    "## Vježba 2\n",
    "\n",
    "Napišite funkciju koja kreira listu duljine `n` sampleova kao što je to navedeno u Vježbi 1"
   ]
  },
  {
   "cell_type": "code",
   "execution_count": 95,
   "metadata": {
    "id": "_UFZLC4ssAm1"
   },
   "outputs": [
    {
     "data": {
      "text/plain": [
       "[9.33785184444326, 8.545843858041508]"
      ]
     },
     "execution_count": 95,
     "metadata": {},
     "output_type": "execute_result"
    }
   ],
   "source": [
    "def sample_many(*, start, end, n):\n",
    "    return [sample_one(start=start, end=end) for _ in range(n)]\n",
    "\n",
    "sample_many(start=5, end=10, n=2)"
   ]
  },
  {
   "cell_type": "markdown",
   "metadata": {
    "id": "bDNxuKNHsI-L"
   },
   "source": [
    "## Vježba 3\n",
    "\n",
    "Napišite funkciju koja računa prosjek popisa brojeva."
   ]
  },
  {
   "cell_type": "code",
   "execution_count": 97,
   "metadata": {
    "id": "vhsHU8qXsH50"
   },
   "outputs": [
    {
     "data": {
      "text/plain": [
       "3.0"
      ]
     },
     "execution_count": 97,
     "metadata": {},
     "output_type": "execute_result"
    }
   ],
   "source": [
    "def average(array):\n",
    "    return sum(array) / len(array)\n",
    "\n",
    "average([2, 3, 4])"
   ]
  },
  {
   "cell_type": "markdown",
   "metadata": {
    "id": "4RS0grGJsUsK"
   },
   "source": [
    "## Vježba 4\n",
    "\n",
    "Napišite funkciju koja kreira `m` lista kao što je navedeno u Vježbi 2 te računa prosjek svake liste"
   ]
  },
  {
   "cell_type": "code",
   "execution_count": 100,
   "metadata": {
    "id": "CCl07aGwsTqY"
   },
   "outputs": [
    {
     "data": {
      "text/plain": [
       "[6.819022871034103,\n",
       " 7.570838085067888,\n",
       " 4.018705174298039,\n",
       " 5.194393524638769,\n",
       " 5.585150854779449,\n",
       " 7.687036768304148,\n",
       " 5.124576085328377,\n",
       " 5.3544004701248875,\n",
       " 4.294661452625104,\n",
       " 5.896534215193571]"
      ]
     },
     "execution_count": 100,
     "metadata": {},
     "output_type": "execute_result"
    }
   ],
   "source": [
    "def create_population(*, start, end, n, size):\n",
    "    return [average(sample_many(start=start, end=end, n=n))  for _ in range(size)]\n",
    "\n",
    "create_population(start=1, end=10, n=5, size=10)"
   ]
  },
  {
   "cell_type": "markdown",
   "metadata": {},
   "source": [
    "## Vježba 5"
   ]
  },
  {
   "cell_type": "markdown",
   "metadata": {
    "id": "u1pZtZ18tr--"
   },
   "source": [
    "Napravite listu prosjeka brojeva između 1.0 i 2.0. Neka je svaka lista veličine 10. Mijenjajte broj prosjeka između 100 do 10000. Prilagodite broj binova u histogramu za najbolju vizualizaciju.\n",
    "\n",
    "Koristite `matplotlib` biblioteku kao što je navedeno:\n",
    "```python\n",
    "from matplotlib import pyplot as plt\n",
    "\n",
    "plt.figure()\n",
    "plt.hist(array, bins=50)\n",
    "plt.show()\n",
    "```"
   ]
  },
  {
   "cell_type": "code",
   "execution_count": 101,
   "metadata": {},
   "outputs": [
    {
     "name": "stdout",
     "output_type": "stream",
     "text": [
      "Collecting matplotlib\n",
      "  Downloading matplotlib-3.8.3-cp312-cp312-win_amd64.whl.metadata (5.9 kB)\n",
      "Collecting contourpy>=1.0.1 (from matplotlib)\n",
      "  Downloading contourpy-1.2.0-cp312-cp312-win_amd64.whl.metadata (5.8 kB)\n",
      "Collecting cycler>=0.10 (from matplotlib)\n",
      "  Downloading cycler-0.12.1-py3-none-any.whl.metadata (3.8 kB)\n",
      "Collecting fonttools>=4.22.0 (from matplotlib)\n",
      "  Downloading fonttools-4.50.0-cp312-cp312-win_amd64.whl.metadata (162 kB)\n",
      "     ---------------------------------------- 0.0/162.6 kB ? eta -:--:--\n",
      "     --------- ----------------------------- 41.0/162.6 kB 1.9 MB/s eta 0:00:01\n",
      "     -------------------------------------- 162.6/162.6 kB 3.2 MB/s eta 0:00:00\n",
      "Collecting kiwisolver>=1.3.1 (from matplotlib)\n",
      "  Downloading kiwisolver-1.4.5-cp312-cp312-win_amd64.whl.metadata (6.5 kB)\n",
      "Collecting numpy<2,>=1.21 (from matplotlib)\n",
      "  Using cached numpy-1.26.4-cp312-cp312-win_amd64.whl.metadata (61 kB)\n",
      "Requirement already satisfied: packaging>=20.0 in c:\\users\\pc\\psu\\psu\\lib\\site-packages (from matplotlib) (24.0)\n",
      "Collecting pillow>=8 (from matplotlib)\n",
      "  Downloading pillow-10.2.0-cp312-cp312-win_amd64.whl.metadata (9.9 kB)\n",
      "Collecting pyparsing>=2.3.1 (from matplotlib)\n",
      "  Downloading pyparsing-3.1.2-py3-none-any.whl.metadata (5.1 kB)\n",
      "Requirement already satisfied: python-dateutil>=2.7 in c:\\users\\pc\\psu\\psu\\lib\\site-packages (from matplotlib) (2.9.0.post0)\n",
      "Requirement already satisfied: six>=1.5 in c:\\users\\pc\\psu\\psu\\lib\\site-packages (from python-dateutil>=2.7->matplotlib) (1.16.0)\n",
      "Downloading matplotlib-3.8.3-cp312-cp312-win_amd64.whl (7.6 MB)\n",
      "   ---------------------------------------- 0.0/7.6 MB ? eta -:--:--\n",
      "   -- ------------------------------------- 0.4/7.6 MB 8.3 MB/s eta 0:00:01\n",
      "   ---- ----------------------------------- 0.9/7.6 MB 9.7 MB/s eta 0:00:01\n",
      "   ------- -------------------------------- 1.4/7.6 MB 9.9 MB/s eta 0:00:01\n",
      "   ---------- ----------------------------- 2.0/7.6 MB 11.8 MB/s eta 0:00:01\n",
      "   ------------- -------------------------- 2.5/7.6 MB 11.5 MB/s eta 0:00:01\n",
      "   ---------------- ----------------------- 3.1/7.6 MB 11.7 MB/s eta 0:00:01\n",
      "   ------------------ --------------------- 3.6/7.6 MB 11.5 MB/s eta 0:00:01\n",
      "   --------------------- ------------------ 4.2/7.6 MB 11.6 MB/s eta 0:00:01\n",
      "   ------------------------ --------------- 4.7/7.6 MB 11.5 MB/s eta 0:00:01\n",
      "   -------------------------- ------------- 5.1/7.6 MB 11.3 MB/s eta 0:00:01\n",
      "   ----------------------------- ---------- 5.7/7.6 MB 11.7 MB/s eta 0:00:01\n",
      "   -------------------------------- ------- 6.2/7.6 MB 11.6 MB/s eta 0:00:01\n",
      "   ---------------------------------- ----- 6.6/7.6 MB 11.8 MB/s eta 0:00:01\n",
      "   ------------------------------------- -- 7.1/7.6 MB 11.6 MB/s eta 0:00:01\n",
      "   ---------------------------------------  7.6/7.6 MB 11.6 MB/s eta 0:00:01\n",
      "   ---------------------------------------- 7.6/7.6 MB 11.4 MB/s eta 0:00:00\n",
      "Downloading contourpy-1.2.0-cp312-cp312-win_amd64.whl (187 kB)\n",
      "   ---------------------------------------- 0.0/187.7 kB ? eta -:--:--\n",
      "   ---------------------------------------- 187.7/187.7 kB 5.5 MB/s eta 0:00:00\n",
      "Downloading cycler-0.12.1-py3-none-any.whl (8.3 kB)\n",
      "Downloading fonttools-4.50.0-cp312-cp312-win_amd64.whl (2.2 MB)\n",
      "   ---------------------------------------- 0.0/2.2 MB ? eta -:--:--\n",
      "   --------- ------------------------------ 0.5/2.2 MB 17.2 MB/s eta 0:00:01\n",
      "   --------------------- ------------------ 1.2/2.2 MB 12.6 MB/s eta 0:00:01\n",
      "   -------------------------------- ------- 1.8/2.2 MB 12.6 MB/s eta 0:00:01\n",
      "   ---------------------------------------  2.2/2.2 MB 11.6 MB/s eta 0:00:01\n",
      "   ---------------------------------------- 2.2/2.2 MB 10.6 MB/s eta 0:00:00\n",
      "Downloading kiwisolver-1.4.5-cp312-cp312-win_amd64.whl (56 kB)\n",
      "   ---------------------------------------- 0.0/56.0 kB ? eta -:--:--\n",
      "   ---------------------------------------- 56.0/56.0 kB 2.9 MB/s eta 0:00:00\n",
      "Using cached numpy-1.26.4-cp312-cp312-win_amd64.whl (15.5 MB)\n",
      "Downloading pillow-10.2.0-cp312-cp312-win_amd64.whl (2.6 MB)\n",
      "   ---------------------------------------- 0.0/2.6 MB ? eta -:--:--\n",
      "   ------- -------------------------------- 0.5/2.6 MB 15.2 MB/s eta 0:00:01\n",
      "   -------------- ------------------------- 1.0/2.6 MB 15.3 MB/s eta 0:00:01\n",
      "   ------------------------ --------------- 1.6/2.6 MB 12.7 MB/s eta 0:00:01\n",
      "   ------------------------------- -------- 2.1/2.6 MB 13.3 MB/s eta 0:00:01\n",
      "   ---------------------------------------  2.6/2.6 MB 12.6 MB/s eta 0:00:01\n",
      "   ---------------------------------------- 2.6/2.6 MB 11.9 MB/s eta 0:00:00\n",
      "Downloading pyparsing-3.1.2-py3-none-any.whl (103 kB)\n",
      "   ---------------------------------------- 0.0/103.2 kB ? eta -:--:--\n",
      "   ---------------------------------------- 103.2/103.2 kB 2.9 MB/s eta 0:00:00\n",
      "Installing collected packages: pyparsing, pillow, numpy, kiwisolver, fonttools, cycler, contourpy, matplotlib\n",
      "Successfully installed contourpy-1.2.0 cycler-0.12.1 fonttools-4.50.0 kiwisolver-1.4.5 matplotlib-3.8.3 numpy-1.26.4 pillow-10.2.0 pyparsing-3.1.2\n",
      "Note: you may need to restart the kernel to use updated packages.\n"
     ]
    }
   ],
   "source": [
    "pip install matplotlib"
   ]
  },
  {
   "cell_type": "code",
   "execution_count": 107,
   "metadata": {
    "id": "3p1R9T9YtprZ"
   },
   "outputs": [
    {
     "data": {
      "image/png": "[encoded data removed]",
      "text/plain": [
       "<Figure size 640x480 with 1 Axes>"
      ]
     },
     "metadata": {},
     "output_type": "display_data"
    }
   ],
   "source": [
    "from matplotlib import pyplot as plt\n",
    "\n",
    "plt.figure()\n",
    "plt.hist(sample_many(start=1, end=2, n=1000), bins=1000)\n",
    "plt.show()"
   ]
  }
 ],
 "metadata": {
  "colab": {
   "collapsed_sections": [],
   "provenance": []
  },
  "kernelspec": {
   "display_name": "Python 3.9.10 64-bit",
   "language": "python",
   "name": "python3"
  },
  "language_info": {
   "codemirror_mode": {
    "name": "ipython",
    "version": 3
   },
   "file_extension": ".py",
   "mimetype": "text/x-python",
   "name": "python",
   "nbconvert_exporter": "python",
   "pygments_lexer": "ipython3",
   "version": "3.12.2"
  },
  "vscode": {
   "interpreter": {
    "hash": "b0fa6594d8f4cbf19f97940f81e996739fb7646882a419484c72d19e05852a7e"
   }
  }
 },
 "nbformat": 4,
 "nbformat_minor": 4
}
